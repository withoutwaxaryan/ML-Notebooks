{
 "cells": [
  {
   "cell_type": "code",
   "execution_count": 16,
   "metadata": {},
   "outputs": [],
   "source": [
    "import numpy as np\n",
    "import matplotlib.pyplot as plt"
   ]
  },
  {
   "cell_type": "code",
   "execution_count": 3,
   "metadata": {},
   "outputs": [
    {
     "data": {
      "text/plain": [
       "0.03516261005452015"
      ]
     },
     "execution_count": 3,
     "metadata": {},
     "output_type": "execute_result"
    }
   ],
   "source": [
    "np.random.random()  # generates random number between 0 and 1"
   ]
  },
  {
   "cell_type": "code",
   "execution_count": 4,
   "metadata": {},
   "outputs": [
    {
     "data": {
      "text/plain": [
       "array([9, 7, 6, 1, 7, 2, 2, 8, 2, 0, 9, 4, 1, 9, 4, 7, 4, 8, 7, 5])"
      ]
     },
     "execution_count": 4,
     "metadata": {},
     "output_type": "execute_result"
    }
   ],
   "source": [
    "np.random.randint(0, 10, 20)  # generates 20 random numbers between 0 and 10"
   ]
  },
  {
   "cell_type": "code",
   "execution_count": 5,
   "metadata": {},
   "outputs": [
    {
     "data": {
      "text/plain": [
       "array([[6, 1, 3, 4, 4],\n",
       "       [8, 7, 9, 9, 5],\n",
       "       [2, 3, 1, 5, 9],\n",
       "       [8, 0, 0, 2, 1]])"
      ]
     },
     "execution_count": 5,
     "metadata": {},
     "output_type": "execute_result"
    }
   ],
   "source": [
    "# to make it in a matrix we can either do :\n",
    "np.random.randint(0, 10, 20).reshape(4, 5)"
   ]
  },
  {
   "cell_type": "code",
   "execution_count": 6,
   "metadata": {},
   "outputs": [
    {
     "data": {
      "text/plain": [
       "array([[0, 1, 6, 6, 6],\n",
       "       [2, 0, 2, 1, 4],\n",
       "       [5, 1, 4, 8, 0],\n",
       "       [6, 2, 2, 6, 8]])"
      ]
     },
     "execution_count": 6,
     "metadata": {},
     "output_type": "execute_result"
    }
   ],
   "source": [
    "# or we can do:\n",
    "np.random.randint(0, 10, size=(4,5))"
   ]
  },
  {
   "cell_type": "code",
   "execution_count": 7,
   "metadata": {},
   "outputs": [],
   "source": [
    "data = np.random.randn(1000) # normal distibution --> mean is 0 , standard deviation is 1"
   ]
  },
  {
   "cell_type": "code",
   "execution_count": 8,
   "metadata": {},
   "outputs": [
    {
     "data": {
      "text/plain": [
       "array([-3.47741048e-02, -1.30826543e-01, -1.86311394e+00, -5.42698430e-01,\n",
       "       -6.53059438e-01,  5.51994865e-01, -4.04065835e-01, -7.33272956e-01,\n",
       "       -1.65959251e-01,  1.55898345e+00, -8.97928587e-02,  8.06896310e-01,\n",
       "        1.24899539e+00,  4.25606617e-01,  9.11345145e-01,  2.25684907e-02,\n",
       "       -7.07052165e-01, -1.47097596e-01, -3.42712784e-01,  9.30058295e-01,\n",
       "        9.29845348e-01, -6.24646169e-01, -6.80341777e-01, -1.17862267e+00,\n",
       "       -3.46681665e-01,  1.44426246e-01,  1.19551711e+00, -2.04023717e-01,\n",
       "       -5.55859153e-01,  5.75934713e-02,  1.52122263e+00,  4.24907420e-01,\n",
       "       -2.52861745e-01, -4.05698660e-01, -7.57950174e-01,  1.08076349e-02,\n",
       "       -3.42472017e-01, -1.07617880e+00, -4.74776834e-01, -1.76914421e+00,\n",
       "        4.31110930e-01, -2.67945883e-01, -3.67271156e-01,  3.84932706e-01,\n",
       "        1.68588716e+00,  1.20654349e+00,  7.45460594e-01,  3.72350560e-01,\n",
       "       -1.26299562e+00,  4.08702512e-02, -1.08125695e+00, -2.57113962e+00,\n",
       "       -9.73499056e-01, -2.19610758e+00, -5.05024185e-01, -5.19656909e-01,\n",
       "       -5.64069767e-01,  2.60975623e-01,  1.34648771e+00, -1.20361155e+00,\n",
       "       -5.49235238e-01,  5.83907946e-01,  1.65591101e+00,  1.23212245e+00,\n",
       "       -8.40301957e-01,  5.76800789e-02,  6.65362778e-02, -1.76066216e-01,\n",
       "        7.28726235e-01, -4.94336277e-01, -4.73673168e-01,  1.51093804e+00,\n",
       "       -3.80858474e-01, -1.16643752e+00, -1.69445061e+00,  1.01426544e+00,\n",
       "        1.69765180e+00,  4.70215525e-01,  1.82030253e+00,  1.04303565e+00,\n",
       "       -1.08538540e+00, -4.57992889e-02, -9.09002069e-01,  1.07534457e+00,\n",
       "       -1.55273641e+00,  1.74694575e-01,  8.70578198e-01,  7.34986028e-02,\n",
       "       -7.57005661e-01,  6.95666213e-01,  2.29671399e-01,  6.08022547e-01,\n",
       "        1.65588117e+00, -1.44361470e+00,  6.50978207e-02, -3.59240648e-01,\n",
       "       -1.60831643e+00, -1.66998182e+00, -1.11884984e-01, -4.38333629e-02,\n",
       "        1.56855928e+00, -5.08089995e-01,  2.95797725e-01,  4.14864133e-01,\n",
       "        5.12660374e-01,  1.33998442e+00, -1.29613071e+00, -1.29365929e-01,\n",
       "        7.52005436e-01, -4.84933156e-01, -3.50504698e-01, -3.22902949e-01,\n",
       "       -1.41290964e-01,  3.76843779e-01,  9.16937347e-01,  1.19399640e+00,\n",
       "       -1.82452025e+00,  1.60565496e+00, -1.14599369e+00, -8.38596338e-01,\n",
       "        3.74956740e-01, -7.45692910e-01,  2.22940051e-01, -7.85783337e-02,\n",
       "       -1.51200143e+00,  5.54591547e-01,  6.05740888e-01, -1.18767390e-01,\n",
       "       -6.31108456e-01, -1.79502390e-01,  1.86519438e+00,  7.05085152e-01,\n",
       "       -1.63126290e+00, -2.31692646e+00,  5.64209070e-01,  7.93505712e-01,\n",
       "        6.26745268e-01, -3.02618191e-01,  7.15415663e-01, -1.03735669e+00,\n",
       "        2.82858438e-01, -1.05021854e-01,  9.59125327e-01, -1.65368339e-01,\n",
       "        1.30428670e+00,  9.94981475e-01,  2.13342714e-01,  1.05311709e+00,\n",
       "       -1.84001600e+00,  2.98316995e-01,  5.85975576e-01,  9.31737545e-01,\n",
       "        7.89207484e-01,  5.15257912e-02, -9.46151895e-01, -4.64403094e-01,\n",
       "        8.68630937e-01,  1.16398069e+00, -1.89898848e+00,  1.12596235e+00,\n",
       "        2.69568107e-01,  8.57938590e-01,  2.06062881e+00,  1.06694851e+00,\n",
       "        1.42421821e+00,  1.11290958e+00, -7.52045381e-01, -2.05879156e-02,\n",
       "       -2.18136951e-01, -9.72300921e-01,  1.49871373e+00, -9.51923077e-01,\n",
       "        8.42334822e-01, -7.87493419e-01,  5.88378313e-01, -2.23987802e-01,\n",
       "       -7.40236687e-01,  1.41764745e+00,  4.27906672e-02,  2.12444714e-01,\n",
       "        1.43889557e+00,  3.75568268e+00, -5.82167021e-01,  6.32837799e-01,\n",
       "        4.38077251e-01, -8.33977509e-01,  7.36800139e-01, -4.30620835e-01,\n",
       "        4.46546348e-02,  7.93843515e-01, -1.93355231e-01, -1.81172463e+00,\n",
       "       -5.70891174e-01,  7.09213712e-01, -5.31570704e-01,  1.75824489e-01,\n",
       "        1.01410788e+00,  1.92493043e-01,  3.70423382e-01, -3.79664399e-01,\n",
       "       -1.74182334e+00,  7.58850644e-01, -1.08546706e+00, -1.94989836e-01,\n",
       "        1.34466438e+00,  9.25442521e-01,  1.11232254e+00, -5.98176773e-01,\n",
       "       -2.16585812e+00,  4.95963112e-02,  1.49183020e+00,  2.21931470e-01,\n",
       "       -5.61432475e-01,  1.39023651e+00, -3.66706282e-01, -1.79465097e+00,\n",
       "        8.16833815e-01, -1.25708875e-01,  1.33308937e+00,  1.69032382e-01,\n",
       "        4.08386345e-01,  7.37907290e-01,  2.27093256e-01, -5.06696213e-01,\n",
       "       -8.25389024e-01, -3.50571444e+00,  4.46117097e-01,  7.63505911e-01,\n",
       "        1.00018902e+00, -9.75135634e-01,  1.04868722e+00, -1.25080270e+00,\n",
       "        2.56727564e+00, -1.27723488e+00,  1.04364399e+00,  3.51688704e-01,\n",
       "        4.58910709e-01,  8.92992810e-01, -4.19589926e-01,  4.60049283e-02,\n",
       "       -3.54218903e-03, -4.38217688e-01,  4.70774361e-01, -1.10377536e+00,\n",
       "        1.74558151e-01,  2.10317542e-01, -9.22264645e-02,  6.42454477e-01,\n",
       "       -7.44521413e-01,  1.17635157e+00, -6.68482721e-01, -2.37103184e+00,\n",
       "        6.51565055e-01, -4.04861435e-01, -5.75919762e-01, -1.23112752e+00,\n",
       "       -3.37265268e-01,  2.59164498e-01,  6.63896020e-01, -6.73924501e-01,\n",
       "        2.17525036e-01, -3.95507168e-01, -1.20234188e+00,  4.93223630e-01,\n",
       "        2.04261667e+00,  9.81137429e-01, -1.29591861e-01, -1.44094631e-01,\n",
       "       -1.76935831e+00, -5.87975328e-01, -1.24894904e+00, -1.91619528e+00,\n",
       "        1.49819168e+00,  5.63473088e-01,  1.73252352e+00, -4.62934146e-01,\n",
       "        3.09817221e-01, -1.84981800e+00, -1.22767556e-01,  1.18600036e+00,\n",
       "       -9.27510127e-01, -9.65990776e-01,  1.52109076e-01,  4.09172571e-01,\n",
       "        1.28990425e+00,  7.87773277e-01, -9.14778356e-01, -1.09944953e+00,\n",
       "       -1.29110552e+00, -5.53334224e-01,  2.62907398e-02, -5.70438825e-01,\n",
       "        4.75023841e-01, -1.38507409e+00,  1.14783882e+00, -1.04118218e+00,\n",
       "       -3.01297283e-01,  2.54888160e+00, -1.69977475e+00,  5.93431319e-01,\n",
       "        2.55179365e-01, -1.15430367e+00, -8.54057833e-02,  5.82375208e-01,\n",
       "       -1.69717648e-01,  9.97724972e-01,  4.54943806e-01, -4.59211908e-01,\n",
       "        9.65383363e-01, -6.21669570e-01, -1.86644180e+00,  1.42552887e+00,\n",
       "       -8.61166822e-01,  3.33100119e-01,  1.71670524e+00,  6.73222157e-01,\n",
       "       -2.18129574e+00, -4.51548088e-01,  2.06865694e-01,  7.42883980e-01,\n",
       "       -1.13553009e+00,  8.23879964e-01, -7.98964578e-01,  5.51908896e-01,\n",
       "        6.19645598e-01, -2.62584541e+00,  1.05062613e+00,  8.58148615e-02,\n",
       "       -3.74120501e-01,  5.01410738e-01, -1.85443955e+00, -1.63861366e+00,\n",
       "        9.28044642e-01, -4.27917793e-01, -2.16017598e-01,  1.90342754e+00,\n",
       "       -6.51080847e-01,  4.52627461e-02, -9.13913971e-02,  9.46996837e-01,\n",
       "       -6.75858793e-01,  1.33656151e+00, -1.03343837e+00,  9.77412847e-01,\n",
       "       -1.05326427e+00,  1.10622821e+00,  2.67980499e-02, -1.16216376e+00,\n",
       "       -3.34562276e-01,  1.29589267e+00,  1.55467965e-01,  1.53062124e+00,\n",
       "       -3.17060340e-01, -1.84188637e+00,  1.81362629e+00,  7.59345289e-01,\n",
       "       -2.82856124e-01,  1.98412469e-01,  9.46025074e-01,  4.62326542e-01,\n",
       "       -1.57847720e+00,  4.77293724e-01, -2.73481503e-01, -4.86594667e-01,\n",
       "       -4.05436138e-02, -1.28940687e+00, -1.54806537e+00, -1.57212238e+00,\n",
       "       -2.53973852e-01, -8.36033429e-01, -9.10302414e-01,  1.95207926e-01,\n",
       "       -6.97027954e-01,  1.61638844e+00, -9.80713090e-01, -3.68979911e-01,\n",
       "       -5.97626376e-01, -8.37171319e-01, -1.38534280e+00, -2.79602059e-01,\n",
       "        4.13472512e-01, -7.75705745e-01,  1.67009332e-01,  2.03893896e+00,\n",
       "       -8.87772583e-02, -1.52108492e+00,  2.41570530e+00, -1.98378011e+00,\n",
       "       -1.81279600e+00, -7.82440090e-01,  2.92635205e-01, -4.54288922e-01,\n",
       "       -5.38728893e-01, -5.44880043e-02,  1.83162548e+00,  2.21851844e+00,\n",
       "        2.03637472e-02, -1.22995288e+00,  2.69655864e-01,  1.27840991e+00,\n",
       "       -7.85860909e-02, -2.19543159e-01,  1.19723521e+00,  4.01367949e-01,\n",
       "       -6.62414585e-01, -6.82169755e-02, -3.32319390e-01, -1.82194762e+00,\n",
       "       -2.14000772e-01, -5.53972628e-01,  1.43071057e+00, -4.28865353e-01,\n",
       "        2.70811999e-01, -2.65364500e-01, -6.25824806e-01, -5.29617591e-01,\n",
       "       -2.85776674e-01, -4.85552232e-01,  3.56980235e-01, -3.31504245e-01,\n",
       "        3.64325664e-01,  8.01788398e-01, -1.24414016e+00,  3.83985848e-01,\n",
       "        1.23071422e+00, -5.77219533e-01, -7.20314496e-01, -3.58568446e-01,\n",
       "       -7.59798006e-01,  6.12411318e-01,  1.88974526e-01,  7.45511236e-01,\n",
       "       -8.92219508e-01,  3.05686532e-01, -4.39981353e-01, -3.47642833e-01,\n",
       "        5.14230058e-01,  1.06744073e-01, -6.74773822e-01, -6.16024721e-01,\n",
       "       -3.21746546e-01, -2.25991354e-01,  1.85363636e+00,  7.21255265e-01,\n",
       "       -1.02918054e+00,  3.81277633e-01,  1.35548602e+00,  5.93742158e-01,\n",
       "       -3.08683449e-01, -2.04345621e+00, -3.11798796e+00,  4.80903396e-01,\n",
       "        5.13153323e-01,  2.95703094e-02, -1.25735585e+00,  6.15751741e-01,\n",
       "        5.43056623e-01, -5.13381229e-01,  1.29884409e+00,  3.57044691e-01,\n",
       "       -1.29771520e-01, -1.42501683e+00,  1.14083472e+00, -6.07767470e-01,\n",
       "       -3.83973418e-01,  2.17116262e+00,  2.56939039e-01, -1.07583369e-01,\n",
       "       -1.86577887e-02,  1.25799971e-01,  5.52419313e-01,  2.03419583e-01,\n",
       "       -1.74823106e+00,  4.33496942e-01, -2.86597681e-01, -1.20339388e-01,\n",
       "       -6.43006376e-01,  1.33303165e+00, -6.18681451e-01,  8.54824260e-01,\n",
       "        2.09080839e+00,  8.98059843e-01,  4.72612106e-01, -4.46131488e-01,\n",
       "        3.83062057e-01,  1.92907559e-01,  2.57987573e+00,  8.61591191e-01,\n",
       "       -7.08243928e-01, -4.10040686e-01, -1.46643972e+00,  2.26790702e+00,\n",
       "        1.93633575e-01,  3.72466444e-01,  2.15169627e-01, -4.39842922e-01,\n",
       "       -7.71263057e-01,  2.94562309e-04,  3.57185453e-01,  3.91350154e-01,\n",
       "       -3.47873756e-02, -1.03360975e+00,  1.07625896e+00, -1.16747837e+00,\n",
       "       -1.62265717e+00, -2.54725477e-01, -1.72118260e+00, -1.72881005e+00,\n",
       "        7.42611670e-01, -8.14221701e-01,  1.62338640e-01, -4.75720488e-01,\n",
       "        6.76610531e-02, -8.20647549e-01,  1.88486641e+00,  1.61545109e+00,\n",
       "        4.13306563e-03, -5.34688714e-01,  1.36924506e+00,  1.21798833e-01,\n",
       "        1.83302257e-01, -4.88845870e-01,  8.63100516e-01, -1.23542929e+00,\n",
       "        3.12039990e+00,  1.61745593e-01, -2.57924640e-01,  8.85160260e-01,\n",
       "        2.13475798e+00,  5.43080811e-01, -3.57445329e-01, -1.63518391e-01,\n",
       "        4.97105741e-01, -1.75539267e-01,  1.04659789e+00,  1.61307274e-01,\n",
       "        4.02915824e-01,  4.37899041e-01, -1.04743062e-01, -1.58979277e+00,\n",
       "       -5.98065557e-01,  1.42461357e-01,  1.09702473e+00, -1.00518072e+00,\n",
       "       -8.83002470e-01,  2.60239911e-02,  6.51455880e-01, -1.28046313e+00,\n",
       "        1.34520183e+00,  1.57251936e+00, -1.16473043e+00,  2.41632882e-01,\n",
       "        9.23679993e-01, -3.92542692e-01, -1.55606013e-01,  7.52998750e-01,\n",
       "       -2.72508126e-01,  7.21540431e-01, -4.20025433e-01, -4.24865063e-01,\n",
       "       -4.32615930e-01,  1.58539869e-01,  7.42391419e-01,  1.55078329e+00,\n",
       "       -1.19427344e+00, -4.02712718e-01, -5.40126917e-01, -5.68530776e-01,\n",
       "       -3.87762124e-01, -1.70181032e+00,  8.14248883e-01,  1.24457286e+00,\n",
       "       -6.30505065e-02,  1.90595569e-01, -1.86926419e-01, -1.15977794e+00,\n",
       "        1.81585140e+00, -1.18693781e+00, -6.52842516e-01, -6.15517070e-01,\n",
       "       -1.85858767e+00,  1.06789200e+00,  1.48430283e+00,  1.99525994e-01,\n",
       "        5.63081617e-01, -9.93289771e-01,  6.28847814e-01,  1.26171528e+00,\n",
       "        1.12449616e-01, -8.25568998e-02,  2.93955188e-01, -1.16807977e+00,\n",
       "        1.03249961e+00, -9.38910919e-01,  1.60167338e+00,  1.37761954e+00,\n",
       "        4.04463444e-01, -4.03722625e-01, -6.43829107e-01, -2.25119401e-01,\n",
       "       -8.89786840e-01, -1.04333973e+00, -1.77279674e+00, -2.31594522e-01,\n",
       "       -1.23472412e+00,  3.16721856e-01,  2.80651435e-01,  1.60218591e+00,\n",
       "       -5.31624200e-02, -2.39626609e-01,  1.51627887e+00,  1.73828025e+00,\n",
       "        1.69530612e+00, -1.23162557e+00, -7.78309562e-02, -3.19134890e-01,\n",
       "       -1.00199226e+00,  1.47131826e+00, -7.84246199e-01,  2.28407853e-01,\n",
       "        8.74977789e-01,  8.55911462e-01,  1.84693948e-01,  1.65881993e-01,\n",
       "       -4.52951402e-01, -4.52717117e-01, -2.01875153e+00, -1.33591417e+00,\n",
       "        1.36198778e+00, -8.71613524e-01, -1.93905293e+00,  2.72638526e-01,\n",
       "        3.86956594e-01, -8.11306291e-02, -5.45336858e-01, -7.85011991e-01,\n",
       "       -1.62091963e+00, -2.09251627e-01, -1.03790546e-01,  7.37701808e-01,\n",
       "        1.38826145e+00,  8.60524099e-01,  1.74445936e+00,  2.88902556e-02,\n",
       "       -9.35317151e-01, -3.97191261e-01,  3.01300569e+00,  1.56802363e+00,\n",
       "        4.28759605e-01,  1.56787238e+00, -7.15357241e-01,  1.47138573e+00,\n",
       "       -2.48301540e-02, -4.67114064e-01, -7.25034711e-01, -6.82919296e-01,\n",
       "       -1.05833396e+00, -8.40240843e-02,  6.29814303e-01, -4.66214804e-01,\n",
       "       -1.00102647e+00,  3.66524799e-01, -1.17370252e+00,  4.80893733e-01,\n",
       "        8.66518196e-01, -1.05328691e+00, -3.74893032e-02, -3.76752763e-01,\n",
       "       -1.11630083e+00,  7.11500036e-02,  1.09001965e+00,  3.79760220e-01,\n",
       "       -3.06426899e-01, -1.79723151e-01,  6.55077409e-01,  1.14369879e+00,\n",
       "        5.42778801e-01, -6.02011472e-01,  5.40657998e-01,  1.01856719e+00,\n",
       "        1.59132145e+00, -5.07543434e-01, -1.51860652e+00, -7.03844775e-01,\n",
       "       -5.34595256e-02, -7.14805004e-01,  1.57436920e+00,  9.16904304e-01,\n",
       "       -1.55595414e-01, -1.08283446e+00,  1.64756949e-01, -1.66259561e+00,\n",
       "       -1.34934419e-01, -1.66332800e+00, -5.01465600e-01,  2.99981663e-01,\n",
       "       -1.25834714e+00, -4.59078885e-01,  8.95544715e-01,  7.03826099e-01,\n",
       "       -4.30146087e-02,  1.18455192e+00, -6.26621170e-01,  1.22736600e+00,\n",
       "       -4.77183895e-01,  4.68098969e-01,  8.57234267e-02,  1.99427346e-01,\n",
       "       -6.77510971e-01, -1.39895297e+00, -4.42266278e-01, -3.72119446e-01,\n",
       "        7.69577028e-01,  3.41617355e-01, -1.34134850e+00,  5.95034094e-01,\n",
       "       -1.37611402e+00, -6.59997211e-01,  2.17338532e-01, -7.44245380e-01,\n",
       "        1.58208097e+00,  6.90097796e-01, -2.66343019e+00, -1.59541739e+00,\n",
       "        8.48568147e-01, -7.63795949e-01, -9.00962953e-01, -3.40643218e-01,\n",
       "       -1.82128558e-01,  1.11331606e+00,  2.23328626e-01, -8.19678497e-01,\n",
       "        1.05078131e+00,  1.07106496e+00, -2.38402574e-01, -1.37820322e+00,\n",
       "        5.03897725e-01,  1.35029674e+00, -2.06458182e-01, -1.33245750e+00,\n",
       "        3.29263228e-01, -2.66679945e-01,  1.96190292e+00,  1.63697031e-01,\n",
       "        6.63456958e-01, -3.50100177e-01,  3.48094254e-02, -1.77981866e+00,\n",
       "        2.75319808e-01, -3.97601645e-01,  5.15767768e-01,  1.33433446e+00,\n",
       "        7.56961575e-01, -1.47209555e-01,  5.93937328e-01,  1.17939163e+00,\n",
       "        1.10179061e+00,  9.80929174e-01,  1.10326478e+00,  1.38613124e+00,\n",
       "       -5.20624999e-01, -2.67363114e-02, -6.08163697e-01,  6.78661627e-01,\n",
       "        7.69946913e-01, -3.41643824e-01,  8.46614596e-01, -1.79467737e-01,\n",
       "       -1.10145687e+00,  1.13401735e+00,  1.27053616e-01, -7.74938467e-01,\n",
       "        5.76517290e-01,  9.77084620e-01, -1.00476834e+00,  1.26136821e-01,\n",
       "       -1.65080721e+00,  9.16901509e-01,  7.79408106e-01,  1.02590605e+00,\n",
       "       -1.36650863e+00, -2.26865004e-01,  1.12065232e+00,  4.93917730e-01,\n",
       "        1.91905712e+00, -5.65911841e-01, -3.72433111e-01, -5.04332173e-01,\n",
       "       -7.16344702e-01, -6.19792813e-01, -8.97347708e-01,  1.15358837e+00,\n",
       "       -1.84833214e-01, -1.83933066e+00,  3.77583740e-01,  1.49274628e+00,\n",
       "        1.54548396e+00, -1.00686884e+00,  1.26527239e+00,  1.05170446e+00,\n",
       "       -4.98185308e-01,  2.59013734e+00,  4.61327207e-01,  6.82523681e-01,\n",
       "       -1.08104142e+00,  1.71949151e-01,  9.41814254e-01, -1.34712052e-01,\n",
       "        8.46825954e-01, -8.16403756e-01,  8.89764244e-01,  1.70686778e+00,\n",
       "        1.28074795e+00, -1.02648859e+00,  4.71067971e-01, -9.67859380e-01,\n",
       "       -2.75721757e-01, -3.70222098e-01,  4.06514418e-01,  8.06993389e-01,\n",
       "       -1.16679470e+00,  6.11051499e-01, -4.02434589e-02,  2.65804843e-01,\n",
       "        8.05863166e-01,  2.60550890e-01,  8.08840723e-01,  1.55585719e+00,\n",
       "       -3.08845853e-01, -8.00329573e-01, -4.79441862e-01,  2.40737037e+00,\n",
       "        8.28461307e-01, -1.62597895e+00, -2.84604398e-02,  1.35086657e+00,\n",
       "        1.41244428e+00, -1.27349820e+00,  4.94609093e-01, -1.05643979e+00,\n",
       "       -1.03133252e+00, -5.98656198e-01,  1.45417691e+00,  1.97901635e+00,\n",
       "       -5.24028848e-01,  4.80488838e-01,  4.47865289e-01, -6.41865844e-01,\n",
       "       -2.34267872e-01, -2.04386722e+00, -8.75914834e-01, -6.16623031e-02,\n",
       "       -5.02103611e-01, -2.93111270e-01,  4.50869847e-01, -8.68409075e-01,\n",
       "        5.01818187e-02,  1.12742238e+00, -1.68444248e-01, -3.73269280e-01,\n",
       "       -1.18968076e+00,  2.78412828e-01, -4.69271328e-01,  1.82230392e-01,\n",
       "       -1.62693093e+00,  7.43111933e-01,  1.76555405e-01,  4.81467510e-01,\n",
       "       -1.33940112e+00,  9.19519015e-01, -1.32729398e+00, -2.34568751e-02,\n",
       "       -2.42969296e+00,  1.07501277e+00,  1.35315884e+00,  1.47963414e-01,\n",
       "       -7.39744510e-01,  6.86455954e-01, -4.85502603e-01, -1.26401010e+00,\n",
       "        8.82682383e-01, -3.71295528e+00, -1.34604312e+00,  1.09691694e+00,\n",
       "       -1.69647224e+00,  1.17668322e+00,  3.74630937e-01,  4.50533784e-01,\n",
       "       -1.31390408e+00,  1.01698358e-01, -2.67929427e-01,  3.16426308e-01,\n",
       "       -3.70150515e-01,  1.12193338e+00,  5.39709102e-01, -5.14777034e-01,\n",
       "        7.54176773e-01, -2.28828946e-01, -1.03946871e+00,  1.96825068e+00,\n",
       "       -3.30219989e-01,  4.15061521e-01,  8.10419362e-01,  2.81631283e-01,\n",
       "       -1.18530816e+00,  1.18746386e+00,  4.47206151e-01, -6.31843472e-01,\n",
       "       -4.06432785e-01,  1.42069103e+00,  4.87277795e-01,  9.43816146e-01,\n",
       "       -8.82861569e-01,  9.71269849e-01,  3.20884612e-01,  2.36717799e+00,\n",
       "       -4.02086244e-01,  9.05689169e-01,  1.50615165e+00,  5.78490465e-01,\n",
       "       -1.54455610e+00,  7.92577033e-01, -1.99188128e+00, -1.21300133e+00,\n",
       "       -3.04394509e+00,  4.50793554e-01, -3.81812319e-01, -8.14225202e-01,\n",
       "       -1.04242317e+00,  1.93711416e-02,  1.02695090e+00, -2.09770445e+00,\n",
       "        8.79652922e-01, -8.43703458e-02,  7.06659545e-01, -7.76461699e-01,\n",
       "       -2.35696542e-01, -2.29565772e-01, -1.90239997e-02,  1.37518734e+00,\n",
       "        4.47502331e-01, -1.94693668e+00, -9.48543278e-01,  9.64717571e-01,\n",
       "       -1.09377240e+00, -1.44487445e-01,  3.36138520e-01,  5.87955505e-01,\n",
       "        5.18945714e-01,  2.13357116e-01,  8.69568557e-03, -2.41831467e-01,\n",
       "       -2.56664725e-01,  6.03229478e-01, -9.98777441e-01, -7.40104947e-02,\n",
       "       -9.66428812e-02,  2.02414134e-02,  2.55362605e-01,  4.85149943e-01,\n",
       "       -3.85384446e-02, -9.22543682e-01,  4.68351970e-01, -5.46199360e-01,\n",
       "       -1.08503415e+00,  9.56810685e-01,  5.06901747e-01, -1.72167800e+00,\n",
       "        1.86460586e+00,  1.18665478e+00, -6.28265139e-01, -9.10536007e-01,\n",
       "       -1.75256369e+00, -1.74914670e-01, -1.01394494e+00,  1.67668541e-01,\n",
       "       -1.47746827e+00,  2.60356191e-01,  1.01805179e+00, -6.79847554e-01,\n",
       "        7.73455439e-01,  7.63287816e-02,  5.27431892e-01,  5.31541370e-02,\n",
       "        1.31093436e+00,  9.00888345e-02, -2.17664424e-01, -1.15006496e+00,\n",
       "        1.00497954e+00,  1.61403229e+00,  2.74020063e-01,  4.41870123e-01,\n",
       "       -5.88812788e-01, -2.73089366e-01,  1.84814504e+00, -4.49361659e-01,\n",
       "        3.31847524e-01, -4.49494595e-01,  8.89812181e-01, -2.41552454e-01])"
      ]
     },
     "execution_count": 8,
     "metadata": {},
     "output_type": "execute_result"
    }
   ],
   "source": [
    "data"
   ]
  },
  {
   "cell_type": "code",
   "execution_count": 9,
   "metadata": {},
   "outputs": [
    {
     "data": {
      "text/plain": [
       "0.013248729801053984"
      ]
     },
     "execution_count": 9,
     "metadata": {},
     "output_type": "execute_result"
    }
   ],
   "source": [
    "data.mean()"
   ]
  },
  {
   "cell_type": "code",
   "execution_count": 10,
   "metadata": {},
   "outputs": [
    {
     "data": {
      "text/plain": [
       "0.9965057267171646"
      ]
     },
     "execution_count": 10,
     "metadata": {},
     "output_type": "execute_result"
    }
   ],
   "source": [
    "data.std()"
   ]
  },
  {
   "cell_type": "code",
   "execution_count": 11,
   "metadata": {},
   "outputs": [
    {
     "data": {
      "text/plain": [
       "(1,)"
      ]
     },
     "execution_count": 11,
     "metadata": {},
     "output_type": "execute_result"
    }
   ],
   "source": [
    "data.sum(axis = 0, keepdims=True).shape"
   ]
  },
  {
   "cell_type": "code",
   "execution_count": 18,
   "metadata": {},
   "outputs": [
    {
     "data": {
      "text/plain": [
       "array([ 0.,  1.,  2.,  3.,  4.,  5.,  6.,  7.,  8.,  9., 10.])"
      ]
     },
     "execution_count": 18,
     "metadata": {},
     "output_type": "execute_result"
    }
   ],
   "source": [
    "#np.linspace? # evenly spaces out the numbers\n",
    "np.linspace(0, 10, 11)"
   ]
  },
  {
   "cell_type": "code",
   "execution_count": 17,
   "metadata": {},
   "outputs": [
    {
     "data": {
      "text/plain": [
       "[<matplotlib.lines.Line2D at 0x7fd5d7da6ad0>]"
      ]
     },
     "execution_count": 17,
     "metadata": {},
     "output_type": "execute_result"
    },
    {
     "data": {
      "image/png": "[encoded data removed]",
      "text/plain": [
       "<Figure size 432x288 with 1 Axes>"
      ]
     },
     "metadata": {
      "needs_background": "light"
     },
     "output_type": "display_data"
    }
   ],
   "source": [
    "x = np.linspace(0, 2*np.pi, 100)\n",
    "y = np.sin(x)\n",
    "plt.plot(x, y)"
   ]
  },
  {
   "cell_type": "code",
   "execution_count": 19,
   "metadata": {},
   "outputs": [
    {
     "data": {
      "text/plain": [
       "[<matplotlib.lines.Line2D at 0x7fd5d7558cd0>]"
      ]
     },
     "execution_count": 19,
     "metadata": {},
     "output_type": "execute_result"
    },
    {
     "data": {
      "image/png": "[encoded data removed]",
      "text/plain": [
       "<Figure size 432x288 with 1 Axes>"
      ]
     },
     "metadata": {
      "needs_background": "light"
     },
     "output_type": "display_data"
    }
   ],
   "source": [
    "x= [9, 10 ,13, 17]\n",
    "y = [10, 5, 20, 30]\n",
    "plt.plot(x,y)"
   ]
  },
  {
   "cell_type": "code",
   "execution_count": 21,
   "metadata": {},
   "outputs": [
    {
     "data": {
      "text/plain": [
       "[<matplotlib.lines.Line2D at 0x7fd5d74a5390>]"
      ]
     },
     "execution_count": 21,
     "metadata": {},
     "output_type": "execute_result"
    },
    {
     "data": {
      "image/png": "[encoded data removed]",
      "text/plain": [
       "<Figure size 288x288 with 1 Axes>"
      ]
     },
     "metadata": {
      "needs_background": "light"
     },
     "output_type": "display_data"
    }
   ],
   "source": [
    "r = 10\n",
    "theta = np.linspace(0, 2*np.pi, 100)\n",
    "x = r * np.cos(theta)\n",
    "y = r * np.sin(theta)\n",
    "plt.figure(figsize= (4,4))\n",
    "plt.plot(x, y)"
   ]
  },
  {
   "cell_type": "code",
   "execution_count": null,
   "metadata": {},
   "outputs": [],
   "source": []
  }
 ],
 "metadata": {
  "kernelspec": {
   "display_name": "Python 3",
   "language": "python",
   "name": "python3"
  },
  "language_info": {
   "codemirror_mode": {
    "name": "ipython",
    "version": 3
   },
   "file_extension": ".py",
   "mimetype": "text/x-python",
   "name": "python",
   "nbconvert_exporter": "python",
   "pygments_lexer": "ipython3",
   "version": "3.7.9"
  }
 },
 "nbformat": 4,
 "nbformat_minor": 4
}
